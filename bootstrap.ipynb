{
 "cells": [
  {
   "cell_type": "markdown",
   "id": "554710e5",
   "metadata": {
    "slideshow": {
     "slide_type": "slide"
    }
   },
   "source": [
    "### In this section, we are trying to find the reasonable feature for predicting the total ridership in the dataset. We will first clean and preprocess the data to see whether we have a reasonable dataset to explore and then we will draw some graphs that may imply some potential relationship between the target we want to predict and to see which features are suitable to be selected as feature."
   ]
  },
  {
   "cell_type": "code",
   "execution_count": 4,
   "id": "1de24baf",
   "metadata": {},
   "outputs": [],
   "source": [
    "import numpy as np\n",
    "import pandas as pd\n",
    "import matplotlib.pyplot as plt"
   ]
  },
  {
   "cell_type": "code",
   "execution_count": 5,
   "id": "5e5d13f6",
   "metadata": {},
   "outputs": [
    {
     "data": {
      "text/plain": [
       "(911, 136)"
      ]
     },
     "execution_count": 5,
     "metadata": {},
     "output_type": "execute_result"
    }
   ],
   "source": [
    "d = pd.read_csv('Monthly_Transportation_Statistics.csv')\n",
    "d.shape"
   ]
  },
  {
   "cell_type": "code",
   "execution_count": 6,
   "id": "2d4c554e",
   "metadata": {},
   "outputs": [
    {
     "data": {
      "text/html": [
       "<div>\n",
       "<style scoped>\n",
       "    .dataframe tbody tr th:only-of-type {\n",
       "        vertical-align: middle;\n",
       "    }\n",
       "\n",
       "    .dataframe tbody tr th {\n",
       "        vertical-align: top;\n",
       "    }\n",
       "\n",
       "    .dataframe thead th {\n",
       "        text-align: right;\n",
       "    }\n",
       "</style>\n",
       "<table border=\"1\" class=\"dataframe\">\n",
       "  <thead>\n",
       "    <tr style=\"text-align: right;\">\n",
       "      <th></th>\n",
       "      <th>Index</th>\n",
       "      <th>Date</th>\n",
       "      <th>Air Safety - General Aviation Fatalities</th>\n",
       "      <th>Highway Fatalities Per 100 Million Vehicle Miles Traveled</th>\n",
       "      <th>Highway Fatalities</th>\n",
       "      <th>U.S. Airline Traffic - Total - Seasonally Adjusted</th>\n",
       "      <th>U.S. Airline Traffic - International - Seasonally Adjusted</th>\n",
       "      <th>U.S. Airline Traffic - Domestic - Seasonally Adjusted</th>\n",
       "      <th>Transit Ridership - Other Transit Modes - Adjusted</th>\n",
       "      <th>Transit Ridership - Fixed Route Bus - Adjusted</th>\n",
       "      <th>...</th>\n",
       "      <th>Heavy truck sales SAAR (millions)</th>\n",
       "      <th>U.S. Airline Traffic - Total - Non Seasonally Adjusted</th>\n",
       "      <th>Light truck sales SAAR (millions)</th>\n",
       "      <th>U.S. Airline Traffic - International - Non Seasonally Adjusted</th>\n",
       "      <th>Auto sales SAAR (millions)</th>\n",
       "      <th>U.S. Airline Traffic - Domestic - Non Seasonally Adjusted</th>\n",
       "      <th>Transborder - Total North American Freight</th>\n",
       "      <th>Transborder - U.S. - Mexico Freight</th>\n",
       "      <th>U.S. marketing air carriers on-time performance (percent)</th>\n",
       "      <th>Transborder - U.S. - Canada Freight</th>\n",
       "    </tr>\n",
       "  </thead>\n",
       "  <tbody>\n",
       "    <tr>\n",
       "      <th>0</th>\n",
       "      <td>0</td>\n",
       "      <td>01/01/1947 12:00:00 AM</td>\n",
       "      <td>NaN</td>\n",
       "      <td>NaN</td>\n",
       "      <td>NaN</td>\n",
       "      <td>NaN</td>\n",
       "      <td>NaN</td>\n",
       "      <td>NaN</td>\n",
       "      <td>NaN</td>\n",
       "      <td>NaN</td>\n",
       "      <td>...</td>\n",
       "      <td>NaN</td>\n",
       "      <td>NaN</td>\n",
       "      <td>NaN</td>\n",
       "      <td>NaN</td>\n",
       "      <td>NaN</td>\n",
       "      <td>NaN</td>\n",
       "      <td>NaN</td>\n",
       "      <td>NaN</td>\n",
       "      <td>NaN</td>\n",
       "      <td>NaN</td>\n",
       "    </tr>\n",
       "    <tr>\n",
       "      <th>1</th>\n",
       "      <td>1</td>\n",
       "      <td>02/01/1947 12:00:00 AM</td>\n",
       "      <td>NaN</td>\n",
       "      <td>NaN</td>\n",
       "      <td>NaN</td>\n",
       "      <td>NaN</td>\n",
       "      <td>NaN</td>\n",
       "      <td>NaN</td>\n",
       "      <td>NaN</td>\n",
       "      <td>NaN</td>\n",
       "      <td>...</td>\n",
       "      <td>NaN</td>\n",
       "      <td>NaN</td>\n",
       "      <td>NaN</td>\n",
       "      <td>NaN</td>\n",
       "      <td>NaN</td>\n",
       "      <td>NaN</td>\n",
       "      <td>NaN</td>\n",
       "      <td>NaN</td>\n",
       "      <td>NaN</td>\n",
       "      <td>NaN</td>\n",
       "    </tr>\n",
       "  </tbody>\n",
       "</table>\n",
       "<p>2 rows × 136 columns</p>\n",
       "</div>"
      ],
      "text/plain": [
       "   Index                    Date  Air Safety - General Aviation Fatalities  \\\n",
       "0      0  01/01/1947 12:00:00 AM                                       NaN   \n",
       "1      1  02/01/1947 12:00:00 AM                                       NaN   \n",
       "\n",
       "   Highway Fatalities Per 100 Million Vehicle Miles Traveled  \\\n",
       "0                                                NaN           \n",
       "1                                                NaN           \n",
       "\n",
       "   Highway Fatalities  U.S. Airline Traffic - Total - Seasonally Adjusted  \\\n",
       "0                 NaN                                                NaN    \n",
       "1                 NaN                                                NaN    \n",
       "\n",
       "   U.S. Airline Traffic - International - Seasonally Adjusted  \\\n",
       "0                                                NaN            \n",
       "1                                                NaN            \n",
       "\n",
       "   U.S. Airline Traffic - Domestic - Seasonally Adjusted  \\\n",
       "0                                                NaN       \n",
       "1                                                NaN       \n",
       "\n",
       "   Transit Ridership - Other Transit Modes - Adjusted  \\\n",
       "0                                                NaN    \n",
       "1                                                NaN    \n",
       "\n",
       "   Transit Ridership - Fixed Route Bus - Adjusted  ...  \\\n",
       "0                                             NaN  ...   \n",
       "1                                             NaN  ...   \n",
       "\n",
       "   Heavy truck sales SAAR (millions)  \\\n",
       "0                                NaN   \n",
       "1                                NaN   \n",
       "\n",
       "   U.S. Airline Traffic - Total - Non Seasonally Adjusted  \\\n",
       "0                                                NaN        \n",
       "1                                                NaN        \n",
       "\n",
       "   Light truck sales SAAR (millions)  \\\n",
       "0                                NaN   \n",
       "1                                NaN   \n",
       "\n",
       "   U.S. Airline Traffic - International - Non Seasonally Adjusted  \\\n",
       "0                                                NaN                \n",
       "1                                                NaN                \n",
       "\n",
       "   Auto sales SAAR (millions)  \\\n",
       "0                         NaN   \n",
       "1                         NaN   \n",
       "\n",
       "   U.S. Airline Traffic - Domestic - Non Seasonally Adjusted  \\\n",
       "0                                                NaN           \n",
       "1                                                NaN           \n",
       "\n",
       "   Transborder - Total North American Freight  \\\n",
       "0                                         NaN   \n",
       "1                                         NaN   \n",
       "\n",
       "   Transborder - U.S. - Mexico Freight  \\\n",
       "0                                  NaN   \n",
       "1                                  NaN   \n",
       "\n",
       "   U.S. marketing air carriers on-time performance (percent)  \\\n",
       "0                                                NaN           \n",
       "1                                                NaN           \n",
       "\n",
       "   Transborder - U.S. - Canada Freight  \n",
       "0                                  NaN  \n",
       "1                                  NaN  \n",
       "\n",
       "[2 rows x 136 columns]"
      ]
     },
     "execution_count": 6,
     "metadata": {},
     "output_type": "execute_result"
    }
   ],
   "source": [
    "d.head(2)"
   ]
  },
  {
   "cell_type": "markdown",
   "id": "1fc40237",
   "metadata": {},
   "source": [
    "### at this point we could see that there are way too much na in the dataset for us to make reasonable prediction. In order to see which variables could provide some sense, we first write a function that could generate a table that shows the percentage of NA for each variables."
   ]
  },
  {
   "cell_type": "code",
   "execution_count": 7,
   "id": "e2e25bd7",
   "metadata": {},
   "outputs": [
    {
     "data": {
      "text/html": [
       "<div>\n",
       "<style scoped>\n",
       "    .dataframe tbody tr th:only-of-type {\n",
       "        vertical-align: middle;\n",
       "    }\n",
       "\n",
       "    .dataframe tbody tr th {\n",
       "        vertical-align: top;\n",
       "    }\n",
       "\n",
       "    .dataframe thead th {\n",
       "        text-align: right;\n",
       "    }\n",
       "</style>\n",
       "<table border=\"1\" class=\"dataframe\">\n",
       "  <thead>\n",
       "    <tr style=\"text-align: right;\">\n",
       "      <th></th>\n",
       "      <th>variables</th>\n",
       "      <th>na%</th>\n",
       "    </tr>\n",
       "  </thead>\n",
       "  <tbody>\n",
       "    <tr>\n",
       "      <th>0</th>\n",
       "      <td>Index</td>\n",
       "      <td>0.000000</td>\n",
       "    </tr>\n",
       "    <tr>\n",
       "      <th>1</th>\n",
       "      <td>Date</td>\n",
       "      <td>0.000000</td>\n",
       "    </tr>\n",
       "    <tr>\n",
       "      <th>2</th>\n",
       "      <td>Air Safety - General Aviation Fatalities</td>\n",
       "      <td>0.455543</td>\n",
       "    </tr>\n",
       "    <tr>\n",
       "      <th>3</th>\n",
       "      <td>Highway Fatalities Per 100 Million Vehicle Mil...</td>\n",
       "      <td>0.936334</td>\n",
       "    </tr>\n",
       "    <tr>\n",
       "      <th>4</th>\n",
       "      <td>Highway Fatalities</td>\n",
       "      <td>0.939627</td>\n",
       "    </tr>\n",
       "    <tr>\n",
       "      <th>...</th>\n",
       "      <td>...</td>\n",
       "      <td>...</td>\n",
       "    </tr>\n",
       "    <tr>\n",
       "      <th>131</th>\n",
       "      <td>U.S. Airline Traffic - Domestic - Non Seasonal...</td>\n",
       "      <td>0.926454</td>\n",
       "    </tr>\n",
       "    <tr>\n",
       "      <th>132</th>\n",
       "      <td>Transborder - Total North American Freight</td>\n",
       "      <td>0.780461</td>\n",
       "    </tr>\n",
       "    <tr>\n",
       "      <th>133</th>\n",
       "      <td>Transborder - U.S. - Mexico Freight</td>\n",
       "      <td>0.780461</td>\n",
       "    </tr>\n",
       "    <tr>\n",
       "      <th>134</th>\n",
       "      <td>U.S. marketing air carriers on-time performanc...</td>\n",
       "      <td>0.938529</td>\n",
       "    </tr>\n",
       "    <tr>\n",
       "      <th>135</th>\n",
       "      <td>Transborder - U.S. - Canada Freight</td>\n",
       "      <td>0.780461</td>\n",
       "    </tr>\n",
       "  </tbody>\n",
       "</table>\n",
       "<p>136 rows × 2 columns</p>\n",
       "</div>"
      ],
      "text/plain": [
       "                                             variables       na%\n",
       "0                                                Index  0.000000\n",
       "1                                                 Date  0.000000\n",
       "2             Air Safety - General Aviation Fatalities  0.455543\n",
       "3    Highway Fatalities Per 100 Million Vehicle Mil...  0.936334\n",
       "4                                   Highway Fatalities  0.939627\n",
       "..                                                 ...       ...\n",
       "131  U.S. Airline Traffic - Domestic - Non Seasonal...  0.926454\n",
       "132         Transborder - Total North American Freight  0.780461\n",
       "133                Transborder - U.S. - Mexico Freight  0.780461\n",
       "134  U.S. marketing air carriers on-time performanc...  0.938529\n",
       "135                Transborder - U.S. - Canada Freight  0.780461\n",
       "\n",
       "[136 rows x 2 columns]"
      ]
     },
     "execution_count": 7,
     "metadata": {},
     "output_type": "execute_result"
    }
   ],
   "source": [
    "def table(data):\n",
    "    a = []\n",
    "    for col in data.columns:\n",
    "        a.append(np.sum(data[col].isna())/len(data[col]))\n",
    "    df = pd.DataFrame({'variables': data.columns, 'na%': a})\n",
    "    return df\n",
    "\n",
    "table(d)"
   ]
  },
  {
   "cell_type": "markdown",
   "id": "83678e2b",
   "metadata": {},
   "source": [
    "### At this point we found out that there are way too much variable that has majority of its data being NA, and many of them even have over 90% of the data being NA. In order to train a model and match the integrity the other variables, we cannot use data that has different proportion of NA. We noticed that the data have been divided into months unit, which could be one of reason that some of data generate many NA. So that we group our data into year and take the average of the data to see whether the NA will be lower or not."
   ]
  },
  {
   "cell_type": "code",
   "execution_count": 8,
   "id": "0dfac7c5",
   "metadata": {},
   "outputs": [
    {
     "name": "stderr",
     "output_type": "stream",
     "text": [
      "/tmp/ipykernel_1564/193120744.py:2: FutureWarning: The default value of regex will change from True to False in a future version.\n",
      "  newdate = d['Date'].str.replace(pattern, \"\")\n",
      "/tmp/ipykernel_1564/193120744.py:4: FutureWarning: The default value of regex will change from True to False in a future version.\n",
      "  newdate = newdate.str.replace(pattern2, \"\")\n"
     ]
    }
   ],
   "source": [
    "pattern = r\"\\d+\\/\\d+\\/\"\n",
    "newdate = d['Date'].str.replace(pattern, \"\")\n",
    "pattern2 = r\"\\d+\\:.*\"\n",
    "newdate = newdate.str.replace(pattern2, \"\")\n",
    "d['Year'] = newdate"
   ]
  },
  {
   "cell_type": "code",
   "execution_count": 9,
   "id": "0adade63",
   "metadata": {},
   "outputs": [],
   "source": [
    "new = d.groupby('Year').mean()"
   ]
  },
  {
   "cell_type": "code",
   "execution_count": 10,
   "id": "3fd567be",
   "metadata": {},
   "outputs": [
    {
     "data": {
      "text/html": [
       "<div>\n",
       "<style scoped>\n",
       "    .dataframe tbody tr th:only-of-type {\n",
       "        vertical-align: middle;\n",
       "    }\n",
       "\n",
       "    .dataframe tbody tr th {\n",
       "        vertical-align: top;\n",
       "    }\n",
       "\n",
       "    .dataframe thead th {\n",
       "        text-align: right;\n",
       "    }\n",
       "</style>\n",
       "<table border=\"1\" class=\"dataframe\">\n",
       "  <thead>\n",
       "    <tr style=\"text-align: right;\">\n",
       "      <th></th>\n",
       "      <th>variables</th>\n",
       "      <th>na%</th>\n",
       "    </tr>\n",
       "  </thead>\n",
       "  <tbody>\n",
       "    <tr>\n",
       "      <th>0</th>\n",
       "      <td>Index</td>\n",
       "      <td>0.000000</td>\n",
       "    </tr>\n",
       "    <tr>\n",
       "      <th>1</th>\n",
       "      <td>Air Safety - General Aviation Fatalities</td>\n",
       "      <td>0.381579</td>\n",
       "    </tr>\n",
       "    <tr>\n",
       "      <th>2</th>\n",
       "      <td>Highway Fatalities Per 100 Million Vehicle Mil...</td>\n",
       "      <td>0.802632</td>\n",
       "    </tr>\n",
       "    <tr>\n",
       "      <th>3</th>\n",
       "      <td>Highway Fatalities</td>\n",
       "      <td>0.815789</td>\n",
       "    </tr>\n",
       "    <tr>\n",
       "      <th>4</th>\n",
       "      <td>U.S. Airline Traffic - Total - Seasonally Adju...</td>\n",
       "      <td>0.921053</td>\n",
       "    </tr>\n",
       "    <tr>\n",
       "      <th>...</th>\n",
       "      <td>...</td>\n",
       "      <td>...</td>\n",
       "    </tr>\n",
       "    <tr>\n",
       "      <th>130</th>\n",
       "      <td>U.S. Airline Traffic - Domestic - Non Seasonal...</td>\n",
       "      <td>0.921053</td>\n",
       "    </tr>\n",
       "    <tr>\n",
       "      <th>131</th>\n",
       "      <td>Transborder - Total North American Freight</td>\n",
       "      <td>0.776316</td>\n",
       "    </tr>\n",
       "    <tr>\n",
       "      <th>132</th>\n",
       "      <td>Transborder - U.S. - Mexico Freight</td>\n",
       "      <td>0.776316</td>\n",
       "    </tr>\n",
       "    <tr>\n",
       "      <th>133</th>\n",
       "      <td>U.S. marketing air carriers on-time performanc...</td>\n",
       "      <td>0.934211</td>\n",
       "    </tr>\n",
       "    <tr>\n",
       "      <th>134</th>\n",
       "      <td>Transborder - U.S. - Canada Freight</td>\n",
       "      <td>0.776316</td>\n",
       "    </tr>\n",
       "  </tbody>\n",
       "</table>\n",
       "<p>135 rows × 2 columns</p>\n",
       "</div>"
      ],
      "text/plain": [
       "                                             variables       na%\n",
       "0                                                Index  0.000000\n",
       "1             Air Safety - General Aviation Fatalities  0.381579\n",
       "2    Highway Fatalities Per 100 Million Vehicle Mil...  0.802632\n",
       "3                                   Highway Fatalities  0.815789\n",
       "4    U.S. Airline Traffic - Total - Seasonally Adju...  0.921053\n",
       "..                                                 ...       ...\n",
       "130  U.S. Airline Traffic - Domestic - Non Seasonal...  0.921053\n",
       "131         Transborder - Total North American Freight  0.776316\n",
       "132                Transborder - U.S. - Mexico Freight  0.776316\n",
       "133  U.S. marketing air carriers on-time performanc...  0.934211\n",
       "134                Transborder - U.S. - Canada Freight  0.776316\n",
       "\n",
       "[135 rows x 2 columns]"
      ]
     },
     "execution_count": 10,
     "metadata": {},
     "output_type": "execute_result"
    }
   ],
   "source": [
    "table(new)"
   ]
  },
  {
   "cell_type": "markdown",
   "id": "2405523c",
   "metadata": {},
   "source": [
    "### However, we found that after grouping the data into years, some of the variable disapper, which means that we couldn't use this approach to select the features. so we just set an arbitrary threshold of 50%. If the NA percentage is lower than 50% than we will consider taking it as our variables."
   ]
  },
  {
   "cell_type": "code",
   "execution_count": 11,
   "id": "cc722854",
   "metadata": {},
   "outputs": [
    {
     "data": {
      "text/html": [
       "<div>\n",
       "<style scoped>\n",
       "    .dataframe tbody tr th:only-of-type {\n",
       "        vertical-align: middle;\n",
       "    }\n",
       "\n",
       "    .dataframe tbody tr th {\n",
       "        vertical-align: top;\n",
       "    }\n",
       "\n",
       "    .dataframe thead th {\n",
       "        text-align: right;\n",
       "    }\n",
       "</style>\n",
       "<table border=\"1\" class=\"dataframe\">\n",
       "  <thead>\n",
       "    <tr style=\"text-align: right;\">\n",
       "      <th></th>\n",
       "      <th>variables</th>\n",
       "      <th>na%</th>\n",
       "    </tr>\n",
       "  </thead>\n",
       "  <tbody>\n",
       "    <tr>\n",
       "      <th>0</th>\n",
       "      <td>Index</td>\n",
       "      <td>0.000000</td>\n",
       "    </tr>\n",
       "    <tr>\n",
       "      <th>1</th>\n",
       "      <td>Date</td>\n",
       "      <td>0.000000</td>\n",
       "    </tr>\n",
       "    <tr>\n",
       "      <th>2</th>\n",
       "      <td>Air Safety - General Aviation Fatalities</td>\n",
       "      <td>0.455543</td>\n",
       "    </tr>\n",
       "    <tr>\n",
       "      <th>3</th>\n",
       "      <td>Highway Fatalities Per 100 Million Vehicle Mil...</td>\n",
       "      <td>0.936334</td>\n",
       "    </tr>\n",
       "    <tr>\n",
       "      <th>4</th>\n",
       "      <td>Highway Fatalities</td>\n",
       "      <td>0.939627</td>\n",
       "    </tr>\n",
       "    <tr>\n",
       "      <th>...</th>\n",
       "      <td>...</td>\n",
       "      <td>...</td>\n",
       "    </tr>\n",
       "    <tr>\n",
       "      <th>132</th>\n",
       "      <td>Transborder - Total North American Freight</td>\n",
       "      <td>0.780461</td>\n",
       "    </tr>\n",
       "    <tr>\n",
       "      <th>133</th>\n",
       "      <td>Transborder - U.S. - Mexico Freight</td>\n",
       "      <td>0.780461</td>\n",
       "    </tr>\n",
       "    <tr>\n",
       "      <th>134</th>\n",
       "      <td>U.S. marketing air carriers on-time performanc...</td>\n",
       "      <td>0.938529</td>\n",
       "    </tr>\n",
       "    <tr>\n",
       "      <th>135</th>\n",
       "      <td>Transborder - U.S. - Canada Freight</td>\n",
       "      <td>0.780461</td>\n",
       "    </tr>\n",
       "    <tr>\n",
       "      <th>136</th>\n",
       "      <td>Year</td>\n",
       "      <td>0.000000</td>\n",
       "    </tr>\n",
       "  </tbody>\n",
       "</table>\n",
       "<p>137 rows × 2 columns</p>\n",
       "</div>"
      ],
      "text/plain": [
       "                                             variables       na%\n",
       "0                                                Index  0.000000\n",
       "1                                                 Date  0.000000\n",
       "2             Air Safety - General Aviation Fatalities  0.455543\n",
       "3    Highway Fatalities Per 100 Million Vehicle Mil...  0.936334\n",
       "4                                   Highway Fatalities  0.939627\n",
       "..                                                 ...       ...\n",
       "132         Transborder - Total North American Freight  0.780461\n",
       "133                Transborder - U.S. - Mexico Freight  0.780461\n",
       "134  U.S. marketing air carriers on-time performanc...  0.938529\n",
       "135                Transborder - U.S. - Canada Freight  0.780461\n",
       "136                                               Year  0.000000\n",
       "\n",
       "[137 rows x 2 columns]"
      ]
     },
     "execution_count": 11,
     "metadata": {},
     "output_type": "execute_result"
    }
   ],
   "source": [
    "nn = table(d)\n",
    "nn"
   ]
  },
  {
   "cell_type": "markdown",
   "id": "73d6d8cf",
   "metadata": {},
   "source": [
    "### Our original research question was to focus on ridership prediction, however, due to large scale of NA in the ridership mode, we think that using rail ridership data is a reasonable move since it has the least NA. To make feature selection, we would like to know the relationship between passenger rail total mile and other variables. First we want to see if there is a correlation between air Safety and rail road miles traveled."
   ]
  },
  {
   "cell_type": "code",
   "execution_count": 12,
   "id": "30eebc67",
   "metadata": {},
   "outputs": [
    {
     "data": {
      "text/plain": [
       "Text(0.5, 1.0, 'Air Safety vs Passenger Rail Total Train Miles')"
      ]
     },
     "execution_count": 12,
     "metadata": {},
     "output_type": "execute_result"
    },
    {
     "data": {
      "image/png": "[encoded data removed]",
      "text/plain": [
       "<Figure size 432x288 with 1 Axes>"
      ]
     },
     "metadata": {
      "needs_background": "light"
     },
     "output_type": "display_data"
    }
   ],
   "source": [
    "plt.scatter(d['Air Safety - General Aviation Fatalities'], d['Passenger Rail Total Train Miles'])\n",
    "plt.xlabel('Air Safety')\n",
    "plt.ylabel('Passenger Rail Total Train Miles')\n",
    "plt.title('Air Safety vs Passenger Rail Total Train Miles')"
   ]
  },
  {
   "cell_type": "markdown",
   "id": "f21292ce",
   "metadata": {},
   "source": [
    "### we could see that there is a positive correlation between the two. This could indicate that air safety may contribute to be one of our feature since air safety may indicate the development of transportation. As air safety increases, this indicates that the society has a higher inclination toward travel. However, there are few points that shows downward trending at the end, implying non-linear relationship between the two. You could also argue that the data point at the upper right of the graph is outlier since it deviates far away from the main cluster."
   ]
  },
  {
   "cell_type": "markdown",
   "id": "5ed87dfc",
   "metadata": {},
   "source": [
    "### also I would like to know that how does the raile ridership changes along with the time and maybe discover some effect of covid on the ridership."
   ]
  },
  {
   "cell_type": "code",
   "execution_count": 13,
   "id": "a760670a",
   "metadata": {},
   "outputs": [
    {
     "data": {
      "text/plain": [
       "(array([ 0, 10, 20, 30, 40, 50, 60, 70]),\n",
       " [Text(0, 0, ''),\n",
       "  Text(0, 0, ''),\n",
       "  Text(0, 0, ''),\n",
       "  Text(0, 0, ''),\n",
       "  Text(0, 0, ''),\n",
       "  Text(0, 0, ''),\n",
       "  Text(0, 0, ''),\n",
       "  Text(0, 0, '')])"
      ]
     },
     "execution_count": 13,
     "metadata": {},
     "output_type": "execute_result"
    },
    {
     "data": {
      "image/png": "[encoded data removed]",
      "text/plain": [
       "<Figure size 1332x756 with 1 Axes>"
      ]
     },
     "metadata": {
      "needs_background": "light"
     },
     "output_type": "display_data"
    }
   ],
   "source": [
    "plt.plot(d['Year'], d['Passenger Rail Total Train Miles'])\n",
    "ax = plt.gca()\n",
    "fig = plt.gcf()\n",
    "fig.set_size_inches(18.5, 10.5)\n",
    "ax.set_xticks(ax.get_xticks()[::10])\n",
    "plt.xticks(rotation=280)"
   ]
  },
  {
   "cell_type": "markdown",
   "id": "26c5a6bf",
   "metadata": {},
   "source": [
    "### we could see that during the covid year the ridership of rail decreased dramatically, and historically it seems like the ridership of rail varies with historical events that has no obvious pattern. Therefore, even though we could see a clear impact of covid, but time should not be considered as a feature for predicting ridership of rail."
   ]
  },
  {
   "cell_type": "code",
   "execution_count": null,
   "id": "c2f90184",
   "metadata": {},
   "outputs": [],
   "source": []
  },
  {
   "cell_type": "code",
   "execution_count": null,
   "id": "35898db7",
   "metadata": {},
   "outputs": [],
   "source": []
  },
  {
   "cell_type": "code",
   "execution_count": null,
   "id": "2ea105e6",
   "metadata": {},
   "outputs": [],
   "source": []
  },
  {
   "cell_type": "code",
   "execution_count": null,
   "id": "61c4b7e6",
   "metadata": {},
   "outputs": [],
   "source": []
  },
  {
   "cell_type": "markdown",
   "id": "8ed0d517",
   "metadata": {},
   "source": [
    "### Non-Parametric Methods （Decision Tree + Random Forest)"
   ]
  },
  {
   "cell_type": "code",
   "execution_count": 14,
   "id": "2c9f4656",
   "metadata": {},
   "outputs": [
    {
     "data": {
      "text/plain": [
       "['Index',\n",
       " 'Date',\n",
       " 'Air Safety - General Aviation Fatalities',\n",
       " 'Freight Rail Intermodal Units',\n",
       " 'Freight Rail Carloads',\n",
       " 'Highway Fuel Price - Regular Gasoline',\n",
       " 'Passenger Rail Passengers',\n",
       " 'Passenger Rail Passenger Miles',\n",
       " 'Passenger Rail Total Train Miles',\n",
       " 'Passenger Rail Employee Hours Worked',\n",
       " 'Passenger Rail Yard Switching Miles',\n",
       " 'Passenger Rail Total Reports',\n",
       " 'Rail Fatalities',\n",
       " 'Rail Fatalities at Highway-Rail Crossings',\n",
       " 'Trespasser Fatalities Not at Highwaya-Rail Crossings',\n",
       " 'Heavy truck sales',\n",
       " 'Light truck sales',\n",
       " 'Auto sales',\n",
       " 'Heavy truck sales SAAR (millions)',\n",
       " 'Light truck sales SAAR (millions)',\n",
       " 'Auto sales SAAR (millions)',\n",
       " 'Year']"
      ]
     },
     "execution_count": 14,
     "metadata": {},
     "output_type": "execute_result"
    }
   ],
   "source": [
    "X_names = list(nn[nn['na%']<0.6]['variables'])\n",
    "X_names"
   ]
  },
  {
   "cell_type": "code",
   "execution_count": 15,
   "id": "e67b5d4b",
   "metadata": {},
   "outputs": [
    {
     "data": {
      "text/plain": [
       "('Passenger Rail Total Train Miles',)"
      ]
     },
     "execution_count": 15,
     "metadata": {},
     "output_type": "execute_result"
    }
   ],
   "source": [
    "'Passenger Rail Total Train Miles',"
   ]
  },
  {
   "cell_type": "code",
   "execution_count": 16,
   "id": "530a25c4",
   "metadata": {},
   "outputs": [],
   "source": [
    "x  = [\n",
    " 'Air Safety - General Aviation Fatalities',\n",
    " 'Freight Rail Intermodal Units',\n",
    " 'Freight Rail Carloads',\n",
    " 'Highway Fuel Price - Regular Gasoline',\n",
    " 'Passenger Rail Passengers',\n",
    " 'Passenger Rail Passenger Miles',\n",
    " 'Passenger Rail Employee Hours Worked',\n",
    " 'Passenger Rail Yard Switching Miles',\n",
    " 'Passenger Rail Total Reports',\n",
    " 'Rail Fatalities',\n",
    " 'Rail Fatalities at Highway-Rail Crossings',\n",
    " 'Trespasser Fatalities Not at Highwaya-Rail Crossings',\n",
    " 'Heavy truck sales',\n",
    " 'Light truck sales',\n",
    " 'Auto sales',\n",
    " 'Heavy truck sales SAAR (millions)',\n",
    " 'Light truck sales SAAR (millions)',\n",
    " 'Auto sales SAAR (millions)',\n",
    " 'Year']"
   ]
  },
  {
   "cell_type": "code",
   "execution_count": 17,
   "id": "caca1cab",
   "metadata": {},
   "outputs": [],
   "source": [
    "use_data = d[(d['Year'].astype('int')<2020) & (d['Year'].astype('int')>1975)]\n",
    "model_X = use_data.loc[:, x]\n",
    "y = use_data['Passenger Rail Total Train Miles']"
   ]
  },
  {
   "cell_type": "code",
   "execution_count": 18,
   "id": "c84d8ff4",
   "metadata": {},
   "outputs": [
    {
     "name": "stderr",
     "output_type": "stream",
     "text": [
      "/tmp/ipykernel_1564/3970459146.py:5: SettingWithCopyWarning: \n",
      "A value is trying to be set on a copy of a slice from a DataFrame.\n",
      "Try using .loc[row_indexer,col_indexer] = value instead\n",
      "\n",
      "See the caveats in the documentation: https://pandas.pydata.org/pandas-docs/stable/user_guide/indexing.html#returning-a-view-versus-a-copy\n",
      "  use_data[col]=int_col_data\n"
     ]
    }
   ],
   "source": [
    "for col in model_X.columns:\n",
    "    col_data = model_X[col]\n",
    "    if any(isinstance(x, str) for x in col_data):\n",
    "        int_col_data = [int(my_str.replace(',', '')) for my_str in col_data ]\n",
    "        use_data[col]=int_col_data"
   ]
  },
  {
   "cell_type": "code",
   "execution_count": 19,
   "id": "cc489d37",
   "metadata": {},
   "outputs": [],
   "source": [
    "model_X = model_X.fillna(model_X.median())\n",
    "from sklearn.model_selection import train_test_split\n",
    "X_train, X_test, y_train, y_test = train_test_split(model_X, y, test_size=0.33, random_state=1)"
   ]
  },
  {
   "cell_type": "code",
   "execution_count": 20,
   "id": "b36ff180",
   "metadata": {},
   "outputs": [
    {
     "name": "stdout",
     "output_type": "stream",
     "text": [
      "R^2 score of decision tree model: 0.7546870638754437\n"
     ]
    }
   ],
   "source": [
    "from sklearn import tree\n",
    "from sklearn.metrics import mean_squared_error\n",
    "model = tree.DecisionTreeRegressor()\n",
    "model.fit(X_train, y_train)\n",
    "print('R^2 score of decision tree model:', model.score(X_test, y_test))"
   ]
  },
  {
   "cell_type": "code",
   "execution_count": 21,
   "id": "86997d97",
   "metadata": {},
   "outputs": [
    {
     "data": {
      "text/plain": [
       "197876.4158810241"
      ]
     },
     "execution_count": 21,
     "metadata": {},
     "output_type": "execute_result"
    }
   ],
   "source": [
    "pred = model.predict(X_test)\n",
    "mean_squared_error(y_test, pred)\n",
    "np.sqrt(mean_squared_error(y_test, pred))"
   ]
  },
  {
   "cell_type": "code",
   "execution_count": 22,
   "id": "73b5f6e9",
   "metadata": {},
   "outputs": [
    {
     "data": {
      "text/plain": [
       "0.8410695762504519"
      ]
     },
     "execution_count": 22,
     "metadata": {},
     "output_type": "execute_result"
    }
   ],
   "source": [
    "from sklearn.ensemble import RandomForestRegressor\n",
    "rf = RandomForestRegressor()\n",
    "rf.fit(X_train, y_train)\n",
    "rf.score(X_test, y_test)"
   ]
  },
  {
   "cell_type": "code",
   "execution_count": 23,
   "id": "194c108c",
   "metadata": {},
   "outputs": [
    {
     "data": {
      "text/plain": [
       "(528, 19)"
      ]
     },
     "execution_count": 23,
     "metadata": {},
     "output_type": "execute_result"
    }
   ],
   "source": [
    "model_X.shape"
   ]
  },
  {
   "cell_type": "code",
   "execution_count": 24,
   "id": "14952a75",
   "metadata": {},
   "outputs": [],
   "source": [
    "from sklearn.model_selection import GridSearchCV"
   ]
  },
  {
   "cell_type": "code",
   "execution_count": 25,
   "id": "935872a9",
   "metadata": {},
   "outputs": [
    {
     "name": "stdout",
     "output_type": "stream",
     "text": [
      "Fitting 10 folds for each of 19 candidates, totalling 190 fits\n",
      "best max feature number is: 6\n",
      "CV Random Forest Test R^2: 0.8524\n"
     ]
    }
   ],
   "source": [
    "rf1 = RandomForestRegressor()\n",
    "\n",
    "grid_values = {'max_features': np.arange(1,20)}\n",
    "cv_rf = GridSearchCV(rf1, param_grid = grid_values, scoring = 'r2', cv=10, verbose = 1)\n",
    "cv_rf.fit(X_train, y_train)\n",
    "\n",
    "acc = cv_rf.cv_results_['mean_test_score']\n",
    "max_features = cv_rf.cv_results_['param_max_features'].data\n",
    "\n",
    "table = pd.DataFrame({'max_features' : max_features, 'Validation R2': acc}).sort_values('Validation R2', ascending = False)\n",
    "\n",
    "best_max_feature = table.reset_index()['max_features'][0]\n",
    "\n",
    "best_cv_rf = RandomForestRegressor(max_features = best_max_feature)\n",
    "best_cv_rf.fit(X_train, y_train)\n",
    "\n",
    "model_2e_acc = best_cv_rf.score(X_test, y_test)\n",
    "print('best max feature number is:', best_max_feature)\n",
    "print(f'CV Random Forest Test R^2: {model_2e_acc:.4f}')"
   ]
  },
  {
   "cell_type": "markdown",
   "id": "58f8fd5c",
   "metadata": {},
   "source": [
    "### GLM （Bayesian + Frequentist）"
   ]
  },
  {
   "cell_type": "code",
   "execution_count": 26,
   "id": "7f547c94",
   "metadata": {},
   "outputs": [
    {
     "name": "stderr",
     "output_type": "stream",
     "text": [
      "WARNING (theano.link.c.cmodule): install mkl with `conda install mkl-service`: No module named 'mkl'\n"
     ]
    }
   ],
   "source": [
    "import numpy as np\n",
    "import pandas as pd\n",
    "import matplotlib.pyplot as plt\n",
    "import seaborn as sns\n",
    "sns.set()\n",
    "\n",
    "import pymc3 as pm\n",
    "from pymc3 import glm\n",
    "import statsmodels.api as sm\n",
    "import arviz"
   ]
  },
  {
   "cell_type": "code",
   "execution_count": 27,
   "id": "87994884-87a0-4797-a6c6-52e9e85e240c",
   "metadata": {},
   "outputs": [
    {
     "data": {
      "text/plain": [
       "3166436.5606060605"
      ]
     },
     "execution_count": 27,
     "metadata": {},
     "output_type": "execute_result"
    }
   ],
   "source": [
    "np.mean(y)"
   ]
  },
  {
   "cell_type": "code",
   "execution_count": 28,
   "id": "06df6c9d-6161-4df7-921d-a286afe8073e",
   "metadata": {},
   "outputs": [
    {
     "data": {
      "text/plain": [
       "158517968964.26904"
      ]
     },
     "execution_count": 28,
     "metadata": {},
     "output_type": "execute_result"
    }
   ],
   "source": [
    "np.var(y)"
   ]
  },
  {
   "cell_type": "code",
   "execution_count": 29,
   "id": "2d7b1afb",
   "metadata": {},
   "outputs": [
    {
     "data": {
      "text/plain": [
       "(array([1.63852455e-08, 0.00000000e+00, 2.45778682e-07, 3.27704910e-08,\n",
       "        3.11319664e-07, 3.76860646e-07, 9.50344238e-07, 4.75172119e-07,\n",
       "        2.62163928e-07, 5.40713101e-07, 6.22639329e-07, 7.04565556e-07,\n",
       "        1.57298357e-06, 1.52382783e-06, 7.53721292e-07, 1.80237700e-07,\n",
       "        1.63852455e-08, 0.00000000e+00, 4.91557365e-08, 1.63852455e-08]),\n",
       " array([1944302. , 2059890.1, 2175478.2, 2291066.3, 2406654.4, 2522242.5,\n",
       "        2637830.6, 2753418.7, 2869006.8, 2984594.9, 3100183. , 3215771.1,\n",
       "        3331359.2, 3446947.3, 3562535.4, 3678123.5, 3793711.6, 3909299.7,\n",
       "        4024887.8, 4140475.9, 4256064. ]),\n",
       " <BarContainer object of 20 artists>)"
      ]
     },
     "execution_count": 29,
     "metadata": {},
     "output_type": "execute_result"
    },
    {
     "data": {
      "image/png": "[encoded data removed]",
      "text/plain": [
       "<Figure size 432x288 with 1 Axes>"
      ]
     },
     "metadata": {},
     "output_type": "display_data"
    }
   ],
   "source": [
    "plt.hist(y, density = True, bins = 20)"
   ]
  },
  {
   "cell_type": "code",
   "execution_count": 30,
   "id": "e280901f-8a01-4882-94b3-e96328f74be3",
   "metadata": {},
   "outputs": [
    {
     "data": {
      "text/plain": [
       "(528, 137)"
      ]
     },
     "execution_count": 30,
     "metadata": {},
     "output_type": "execute_result"
    }
   ],
   "source": [
    "use_data.shape"
   ]
  },
  {
   "cell_type": "code",
   "execution_count": 31,
   "id": "f224a2fa-f126-4423-ab91-0c8f08e403b4",
   "metadata": {},
   "outputs": [],
   "source": [
    "x  = [\n",
    " 'Air Safety - General Aviation Fatalities',\n",
    " 'Freight Rail Intermodal Units',\n",
    " 'Freight Rail Carloads',\n",
    " 'Highway Fuel Price - Regular Gasoline',\n",
    " 'Passenger Rail Passengers',\n",
    " 'Passenger Rail Passenger Miles',\n",
    " 'Passenger Rail Employee Hours Worked',\n",
    " 'Passenger Rail Yard Switching Miles',\n",
    " 'Passenger Rail Total Reports',\n",
    " 'Rail Fatalities',\n",
    " 'Rail Fatalities at Highway-Rail Crossings',\n",
    " 'Trespasser Fatalities Not at Highwaya-Rail Crossings',\n",
    " 'Heavy truck sales',\n",
    " 'Light truck sales',\n",
    " 'Auto sales',\n",
    " 'Heavy truck sales SAAR (millions)',\n",
    " 'Light truck sales SAAR (millions)',\n",
    " 'Auto sales SAAR (millions)',\n",
    " 'Year']"
   ]
  },
  {
   "cell_type": "code",
   "execution_count": 32,
   "id": "2dfd4f45-8d1f-453b-ab06-7ffe6d89193e",
   "metadata": {},
   "outputs": [
    {
     "name": "stderr",
     "output_type": "stream",
     "text": [
      "/home/jovyan/envs/mystat159/lib/python3.9/site-packages/pandas/core/frame.py:5039: SettingWithCopyWarning: \n",
      "A value is trying to be set on a copy of a slice from a DataFrame\n",
      "\n",
      "See the caveats in the documentation: https://pandas.pydata.org/pandas-docs/stable/user_guide/indexing.html#returning-a-view-versus-a-copy\n",
      "  return super().rename(\n"
     ]
    }
   ],
   "source": [
    "use_data.rename(columns = {'Passenger Rail Total Train Miles':'Passenger_Rail_Total_Train_Miles', \n",
    "                       \"Passenger Rail Employee Hours Worked\":\"Passenger_Rail_Employee_Hours_Worked\",\n",
    "                      \"Passenger Rail Yard Switching Miles\":\"Passenger_Rail_Yard_Switching_Miles\",\n",
    "                      \"Passenger Rail Passengers\":\"Passenger_Rail_Passengers\",\n",
    "                      \"Passenger Rail Total Reports\":\"Passenger_Rail_Total_Reports\"}, inplace = True)"
   ]
  },
  {
   "cell_type": "code",
   "execution_count": 33,
   "id": "47391314-28bb-4e76-a466-658580f5d9f8",
   "metadata": {},
   "outputs": [
    {
     "data": {
      "text/plain": [
       "0"
      ]
     },
     "execution_count": 33,
     "metadata": {},
     "output_type": "execute_result"
    }
   ],
   "source": [
    "sum(y == np.nan)"
   ]
  },
  {
   "cell_type": "code",
   "execution_count": 35,
   "id": "173e1885-7c8f-4fff-838a-c75dc77f8bfc",
   "metadata": {},
   "outputs": [],
   "source": [
    "#with pm.Model() as negbin_model:\n",
    "#    glm.GLM.from_formula('Passenger_Rail_Total_Train_Miles ~ Passenger_Rail_Employee_Hours_Worked', use_data, family=glm.families.NegativeBinomial())\n",
    "#    negbin_trace = pm.sample(1000, cores=2, target_accept=0.95, return_inferencedata=True)"
   ]
  },
  {
   "cell_type": "code",
   "execution_count": 36,
   "id": "30a5476c-1a67-45ae-94d3-1f6e857ca52d",
   "metadata": {},
   "outputs": [
    {
     "name": "stderr",
     "output_type": "stream",
     "text": [
      "/tmp/ipykernel_1564/57089814.py:4: FutureWarning: The default value of regex will change from True to False in a future version.\n",
      "  newdate = data['Date'].str.replace(pattern, \"\")\n",
      "/tmp/ipykernel_1564/57089814.py:6: FutureWarning: The default value of regex will change from True to False in a future version.\n",
      "  newdate = newdate.str.replace(pattern2, \"\")\n",
      "/home/jovyan/envs/mystat159/lib/python3.9/site-packages/pandas/core/frame.py:5039: SettingWithCopyWarning: \n",
      "A value is trying to be set on a copy of a slice from a DataFrame\n",
      "\n",
      "See the caveats in the documentation: https://pandas.pydata.org/pandas-docs/stable/user_guide/indexing.html#returning-a-view-versus-a-copy\n",
      "  return super().rename(\n"
     ]
    }
   ],
   "source": [
    "data = d\n",
    "\n",
    "pattern = r\"\\d+\\/\\d+\\/\"\n",
    "newdate = data['Date'].str.replace(pattern, \"\")\n",
    "pattern2 = r\"\\d+\\:.*\"\n",
    "newdate = newdate.str.replace(pattern2, \"\")\n",
    "data['Year'] = newdate\n",
    "\n",
    "data= data[(data['Year'].astype(\"int\") > 1975) & (data['Year'].astype(\"int\") < 2020)]\n",
    "\n",
    "data.rename(columns = {'Passenger Rail Total Train Miles':'Passenger_Rail_Total_Train_Miles', \n",
    "                       \"Passenger Rail Employee Hours Worked\":\"Passenger_Rail_Employee_Hours_Worked\",\n",
    "                      \"Passenger Rail Yard Switching Miles\":\"Passenger_Rail_Yard_Switching_Miles\",\n",
    "                      \"Passenger Rail Passengers\":\"Passenger_Rail_Passengers\",\n",
    "                      \"Passenger Rail Total Reports\":\"Passenger_Rail_Total_Reports\",\n",
    "                      \"Passenger Rail Employee Hours Worked\":\"Passenger_Rail_Employee_Hours_Worked\"}, inplace = True)\n",
    "\n",
    "rail = data[['Year','Passenger_Rail_Total_Train_Miles',\"Passenger_Rail_Employee_Hours_Worked\",\"Passenger_Rail_Yard_Switching_Miles\",\"Passenger_Rail_Passengers\",\"Passenger_Rail_Total_Reports\"]]\n",
    "\n",
    "rail = rail.replace(0,np.NaN)\n",
    "rail['Passenger_Rail_Yard_Switching_Miles'] = rail.Passenger_Rail_Yard_Switching_Miles.interpolate(limit_direction='both')\n",
    "rail\n",
    "\n",
    "def take_log(col):\n",
    "    rail[\"log_\"+col] = np.log(rail[col])\n",
    "    \n",
    "for col in rail.columns[1:]:\n",
    "    take_log(col)\n",
    "\n",
    "\n",
    "log_hour = np.log(data['Passenger_Rail_Employee_Hours_Worked']) \n",
    "rail['log_hour'] = log_hour\n",
    "    "
   ]
  },
  {
   "cell_type": "code",
   "execution_count": null,
   "id": "28dd3adb-36d4-432e-80a4-1b5128f01e6e",
   "metadata": {},
   "outputs": [],
   "source": [
    "with pm.Model() as gaussian_model:\n",
    "    glm.GLM.from_formula(\"log_Passenger_Rail_Total_Train_Miles ~ log_Passenger_Rail_Yard_Switching_Miles + log_Passenger_Rail_Employee_Hours_Worked+log_Passenger_Rail_Passengers+log_Passenger_Rail_Total_Reports\", rail)\n",
    "    gaussian_trace = pm.sample(100, cores=1, target_accept=0.95, return_inferencedata=True)"
   ]
  },
  {
   "cell_type": "code",
   "execution_count": null,
   "id": "53c523b9-5ee3-4c2b-93fd-dc6b8ce7a1aa",
   "metadata": {},
   "outputs": [],
   "source": [
    "arviz.plot_trace(gaussian_trace, figsize = (12,25))"
   ]
  },
  {
   "cell_type": "code",
   "execution_count": null,
   "id": "88ee38e9-4ca9-4301-804f-d136236d1c5f",
   "metadata": {},
   "outputs": [],
   "source": [
    "arviz.plot_trace(gaussian_trace, var_names = [\"log_Passenger_Rail_Yard_Switching_Miles\",\"log_Passenger_Rail_Employee_Hours_Worked\",\"log_Passenger_Rail_Passengers\",\"log_Passenger_Rail_Total_Reports\"],figsize = (12,15))"
   ]
  },
  {
   "cell_type": "code",
   "execution_count": null,
   "id": "0a772b52-e821-47a3-8159-9d50fad14c28",
   "metadata": {},
   "outputs": [],
   "source": [
    "plt.scatter(rail['log_hour'],rail['log_Passenger_Rail_Total_Train_Miles'])"
   ]
  },
  {
   "cell_type": "code",
   "execution_count": null,
   "id": "96807b7e-f2d6-42cb-9a1d-4b36474b4e31",
   "metadata": {},
   "outputs": [],
   "source": [
    "with pm.Model() as negbin_model:\n",
    "    glm.GLM.from_formula(\"log_Passenger_Rail_Total_Train_Miles ~ log_hour\", rail, family=glm.families.NegativeBinomial())\n",
    "    gaussian_trace = pm.sample(100, cores=1, target_accept=0.95, return_inferencedata=True)"
   ]
  },
  {
   "cell_type": "code",
   "execution_count": null,
   "id": "d604d86a-9256-4164-8d99-f246a873d483",
   "metadata": {},
   "outputs": [],
   "source": [
    "arviz.plot_trace(gaussian_trace, figsize = (12,15))"
   ]
  },
  {
   "cell_type": "code",
   "execution_count": 38,
   "id": "8ee3b13d-94e6-42ab-b055-dc465432931a",
   "metadata": {},
   "outputs": [],
   "source": [
    "data.rename(columns = {'Passenger Rail Total Train Miles':'Passenger_Rail_Total_Train_Miles', \n",
    "                       \"Passenger Rail Employee Hours Worked\":\"Passenger_Rail_Employee_Hours_Worked\",\n",
    "                      \"Passenger Rail Yard Switching Miles\":\"Passenger_Rail_Yard_Switching_Miles\",\n",
    "                      \"Passenger Rail Passengers\":\"Passenger_Rail_Passengers\",\n",
    "                      \"Passenger Rail Total Reports\":\"Passenger_Rail_Total_Reports\",\n",
    "                      \"Passenger Rail Employee Hours Worked\":\"Passenger_Rail_Employee_Hours_Worked\"}, inplace = True)"
   ]
  },
  {
   "cell_type": "code",
   "execution_count": 39,
   "id": "4a356b9f-5a61-4485-9db6-019a3aeb64fa",
   "metadata": {},
   "outputs": [],
   "source": [
    "best = d\n",
    "best.rename(columns = {'Passenger Rail Total Train Miles':'Passenger_Rail_Total_Train_Miles',\n",
    "                      'Passenger Rail Passengers': 'Passenger_Rail_Passengers'}, inplace=True)\n",
    "\n",
    "best['log_y'] = np.log(best['Passenger_Rail_Total_Train_Miles'])\n",
    "best['Passenger_Rail_Passengers'] = best['Passenger_Rail_Passengers']+0.00001\n",
    "best['log_passengers'] = np.log(best['Passenger_Rail_Passengers'])"
   ]
  },
  {
   "cell_type": "code",
   "execution_count": 40,
   "id": "8decd07c-9b80-4a98-9153-9e9edb8bd322",
   "metadata": {},
   "outputs": [
    {
     "name": "stderr",
     "output_type": "stream",
     "text": [
      "The glm module is deprecated and will be removed in version 4.0\n",
      "We recommend to instead use Bambi https://bambinos.github.io/bambi/\n",
      "Only 100 samples in chain.\n",
      "Auto-assigning NUTS sampler...\n",
      "Initializing NUTS using jitter+adapt_diag...\n",
      "Sequential sampling (2 chains in 1 job)\n",
      "NUTS: [alpha, mu, log_passengers, Intercept]\n"
     ]
    },
    {
     "data": {
      "text/html": [
       "\n",
       "<style>\n",
       "    /* Turns off some styling */\n",
       "    progress {\n",
       "        /* gets rid of default border in Firefox and Opera. */\n",
       "        border: none;\n",
       "        /* Needs to be in here for Safari polyfill so background images work as expected. */\n",
       "        background-size: auto;\n",
       "    }\n",
       "    .progress-bar-interrupted, .progress-bar-interrupted::-webkit-progress-bar {\n",
       "        background: #F44336;\n",
       "    }\n",
       "</style>\n"
      ],
      "text/plain": [
       "<IPython.core.display.HTML object>"
      ]
     },
     "metadata": {},
     "output_type": "display_data"
    },
    {
     "data": {
      "text/html": [
       "\n",
       "    <div>\n",
       "      <progress value='1100' class='' max='1100' style='width:300px; height:20px; vertical-align: middle;'></progress>\n",
       "      100.00% [1100/1100 00:13<00:00 Sampling chain 0, 0 divergences]\n",
       "    </div>\n",
       "    "
      ],
      "text/plain": [
       "<IPython.core.display.HTML object>"
      ]
     },
     "metadata": {},
     "output_type": "display_data"
    },
    {
     "data": {
      "text/html": [
       "\n",
       "<style>\n",
       "    /* Turns off some styling */\n",
       "    progress {\n",
       "        /* gets rid of default border in Firefox and Opera. */\n",
       "        border: none;\n",
       "        /* Needs to be in here for Safari polyfill so background images work as expected. */\n",
       "        background-size: auto;\n",
       "    }\n",
       "    .progress-bar-interrupted, .progress-bar-interrupted::-webkit-progress-bar {\n",
       "        background: #F44336;\n",
       "    }\n",
       "</style>\n"
      ],
      "text/plain": [
       "<IPython.core.display.HTML object>"
      ]
     },
     "metadata": {},
     "output_type": "display_data"
    },
    {
     "data": {
      "text/html": [
       "\n",
       "    <div>\n",
       "      <progress value='1100' class='' max='1100' style='width:300px; height:20px; vertical-align: middle;'></progress>\n",
       "      100.00% [1100/1100 00:12<00:00 Sampling chain 1, 0 divergences]\n",
       "    </div>\n",
       "    "
      ],
      "text/plain": [
       "<IPython.core.display.HTML object>"
      ]
     },
     "metadata": {},
     "output_type": "display_data"
    },
    {
     "name": "stderr",
     "output_type": "stream",
     "text": [
      "Sampling 2 chains for 1_000 tune and 100 draw iterations (2_000 + 200 draws total) took 26 seconds.\n"
     ]
    }
   ],
   "source": [
    "with pm.Model() as negbin_model:\n",
    "    glm.GLM.from_formula(\"log_y ~ log_passengers\", best, family=glm.families.NegativeBinomial())\n",
    "    negbin_trace = pm.sample(100, cores=1, target_accept=0.95, return_inferencedata=True)"
   ]
  },
  {
   "cell_type": "code",
   "execution_count": 41,
   "id": "abeb616e-358a-4386-82eb-21e58d4807a8",
   "metadata": {},
   "outputs": [
    {
     "data": {
      "text/plain": [
       "array([[<AxesSubplot:title={'center':'Intercept'}>,\n",
       "        <AxesSubplot:title={'center':'Intercept'}>],\n",
       "       [<AxesSubplot:title={'center':'log_passengers'}>,\n",
       "        <AxesSubplot:title={'center':'log_passengers'}>],\n",
       "       [<AxesSubplot:title={'center':'mu'}>,\n",
       "        <AxesSubplot:title={'center':'mu'}>],\n",
       "       [<AxesSubplot:title={'center':'alpha'}>,\n",
       "        <AxesSubplot:title={'center':'alpha'}>]], dtype=object)"
      ]
     },
     "execution_count": 41,
     "metadata": {},
     "output_type": "execute_result"
    },
    {
     "data": {
      "image/png": "[encoded data removed]",
      "text/plain": [
       "<Figure size 864x1080 with 8 Axes>"
      ]
     },
     "metadata": {},
     "output_type": "display_data"
    }
   ],
   "source": [
    "arviz.plot_trace(negbin_trace, figsize = (12,15))"
   ]
  },
  {
   "cell_type": "code",
   "execution_count": 42,
   "id": "84970a8e-10cb-4c28-8c46-b40f2d7c729f",
   "metadata": {},
   "outputs": [],
   "source": [
    "new_best = best.loc[:, ['log_y', 'log_passengers']]\n",
    "new_best = new_best.dropna()"
   ]
  },
  {
   "cell_type": "code",
   "execution_count": 43,
   "id": "98b0314e-8461-4e32-b5a3-1cf6c3745cc5",
   "metadata": {},
   "outputs": [
    {
     "name": "stdout",
     "output_type": "stream",
     "text": [
      "                 Generalized Linear Model Regression Results                  \n",
      "==============================================================================\n",
      "Dep. Variable:                  log_y   No. Observations:                  572\n",
      "Model:                            GLM   Df Residuals:                      570\n",
      "Model Family:        NegativeBinomial   Df Model:                            1\n",
      "Link Function:                    Log   Scale:                          1.0000\n",
      "Method:                          IRLS   Log-Likelihood:                -2137.9\n",
      "Date:                Tue, 13 Dec 2022   Deviance:                     0.050728\n",
      "Time:                        06:58:03   Pearson chi2:                   0.0504\n",
      "No. Iterations:                     3   Pseudo R-squ. (CS):          2.918e-06\n",
      "Covariance Type:            nonrobust                                         \n",
      "==================================================================================\n",
      "                     coef    std err          z      P>|z|      [0.025      0.975]\n",
      "----------------------------------------------------------------------------------\n",
      "const              2.7115      0.167     16.249      0.000       2.384       3.039\n",
      "log_passengers    -0.0005      0.011     -0.041      0.968      -0.023       0.022\n",
      "==================================================================================\n"
     ]
    }
   ],
   "source": [
    "\n",
    "negbin_model = sm.GLM(\n",
    "    new_best.log_y, sm.add_constant(new_best['log_passengers']),\n",
    "    family=sm.families.NegativeBinomial()\n",
    ")\n",
    "negbin_results = negbin_model.fit()\n",
    "print(negbin_results.summary())"
   ]
  },
  {
   "cell_type": "code",
   "execution_count": 70,
   "id": "15d8d52a-ea29-42e6-98e5-85e8dc3619ca",
   "metadata": {},
   "outputs": [],
   "source": [
    "## bootstap uncertainty\n",
    "def bootstrap_xy(df,n=100):\n",
    "    \"\"\"\n",
    "    Uses bootstrap to generate multiple samples for estimates\n",
    "    of the provided function.\n",
    "    \"\"\"\n",
    "    const = []\n",
    "    log_pass = []\n",
    "    for _ in range(n):\n",
    "        new = df.sample(n=df.shape[0],replace=True)\n",
    "        negbin_model = sm.GLM(\n",
    "        new.log_y, sm.add_constant(new['log_passengers']),\n",
    "        family=sm.families.NegativeBinomial())\n",
    "        negbin_results = negbin_model.fit()\n",
    "        const.append(negbin_results.params[0])\n",
    "        log_pass.append(negbin_results.params[1])\n",
    "    return const,log_pass\n",
    "\n",
    "boot_const = bootstrap_xy(new_best,1000)[0]\n",
    "boot_logpass=bootstrap_xy(new_best,1000)[1]"
   ]
  },
  {
   "cell_type": "code",
   "execution_count": 78,
   "id": "dee7a2c1-ef8c-4846-8e4d-c59df70536a7",
   "metadata": {},
   "outputs": [
    {
     "data": {
      "image/png": "[encoded data removed]",
      "text/plain": [
       "<Figure size 432x288 with 1 Axes>"
      ]
     },
     "metadata": {},
     "output_type": "display_data"
    }
   ],
   "source": [
    "plt.scatter(boot_const,boot_logpass)\n",
    "plt.scatter(2.7115, -0.0005)\n",
    "plt.title('Bootstrap Coefficients')\n",
    "plt.ylabel('Constant')\n",
    "plt.xlabel('Log-Passengers')\n",
    "#plt.savefig('bootstrap');"
   ]
  },
  {
   "cell_type": "code",
   "execution_count": 80,
   "id": "302e1f74-783e-46dc-8527-1a1408a1b649",
   "metadata": {},
   "outputs": [
    {
     "data": {
      "text/plain": [
       "0.0014000294911377079"
      ]
     },
     "execution_count": 80,
     "metadata": {},
     "output_type": "execute_result"
    }
   ],
   "source": [
    "np.std(boot_const)"
   ]
  },
  {
   "cell_type": "code",
   "execution_count": 81,
   "id": "3f5de527-f6b1-4047-8531-d25f5a52be45",
   "metadata": {},
   "outputs": [
    {
     "data": {
      "text/plain": [
       "9.341779343525839e-05"
      ]
     },
     "execution_count": 81,
     "metadata": {},
     "output_type": "execute_result"
    }
   ],
   "source": [
    "np.std(boot_logpass)"
   ]
  },
  {
   "cell_type": "markdown",
   "id": "7d56ddb0-2b4c-4bda-a134-62d403f9f1d2",
   "metadata": {},
   "source": [
    "To further investigate the uncertainty, we coded up a bootstrap function that uses random samples from our original dataframe to calculate the coefficients, and we get the standard deviations for both coefficients to be much lower than the standard error provided by the frequentist sm model.\n",
    "constant sd: 0.0014\n",
    "log-passengers sd:0.00012\n"
   ]
  },
  {
   "cell_type": "code",
   "execution_count": null,
   "id": "96b88540-7b4b-4bb5-badd-8f66992f5bf2",
   "metadata": {},
   "outputs": [],
   "source": [
    "def negbin_model(x, y): \n",
    "    model = sm.GLM(\n",
    "        y, x,\n",
    "        family=sm.families.NegativeBinomial()\n",
    "    )\n",
    "    results = model.fit()\n",
    "    params = results.params\n",
    "    \n",
    "    return params"
   ]
  },
  {
   "cell_type": "code",
   "execution_count": null,
   "id": "e7bb450b-8b3b-4ddc-80c0-4805b8a4647e",
   "metadata": {},
   "outputs": [],
   "source": [
    "w_gaussian_boot = bootstrap_xy(sm.add_constant(ok_turbines.year), ok_turbines.log_totals, lin_model)\n",
    "plt.xlabel('Intercept')\n",
    "plt.ylabel('Coefficient for year')\n",
    "plt.title('Standard linear regression (with log-count)')"
   ]
  }
 ],
 "metadata": {
  "kernelspec": {
   "display_name": "IPython - mystat159",
   "language": "python",
   "name": "mystat159"
  },
  "language_info": {
   "codemirror_mode": {
    "name": "ipython",
    "version": 3
   },
   "file_extension": ".py",
   "mimetype": "text/x-python",
   "name": "python",
   "nbconvert_exporter": "python",
   "pygments_lexer": "ipython3",
   "version": "3.9.9"
  }
 },
 "nbformat": 4,
 "nbformat_minor": 5
}
